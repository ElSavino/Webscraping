<<<<<<< HEAD
{
 "cells": [
  {
   "cell_type": "code",
   "execution_count": 70,
   "metadata": {},
   "outputs": [],
   "source": [
    "import os\n",
    "from bs4 import BeautifulSoup\n",
    "from selenium import webdriver\n",
    "from selenium.webdriver.common.keys import Keys\n",
    "from selenium.webdriver.common.by import By\n",
    "import time\n",
    "import sys\n",
    "import numpy as np\n",
    "import pandas as pd\n",
    "import regex as re"
   ]
  },
  {
   "cell_type": "code",
   "execution_count": 71,
   "metadata": {},
   "outputs": [
    {
     "name": "stdout",
     "output_type": "stream",
     "text": [
      "chromedriver path: /Users/I511581/Documents\n"
     ]
    }
   ],
   "source": [
    "chromedriver = \"/Users/I511581/Documents\" # path to the chromedriver executable\n",
    "chromedriver = os.path.expanduser(chromedriver)\n",
    "print('chromedriver path: {}'.format(chromedriver))\n",
    "sys.path.append(chromedriver)\n",
    "driver = webdriver.Chrome(executable_path=\"/Users/I511581/chromedriver\")"
   ]
  },
  {
   "cell_type": "code",
   "execution_count": 72,
   "metadata": {},
   "outputs": [],
   "source": [
    "url = \"https://www.rightmove.co.uk/property-for-sale/find.html?locationIdentifier=REGION%5E85312&maxBedrooms=3&minBedrooms=2&maxPrice=800000&minPrice=600000&radius=0.25&propertyTypes=&includeSSTC=false&mustHave=&dontShow=&furnishTypes=&keywords=\"\n",
    "driver.get(url)"
   ]
  },
  {
   "cell_type": "code",
   "execution_count": 73,
   "metadata": {},
   "outputs": [
    {
     "data": {
      "text/plain": [
       "[<a class=\"propertyCard-link property-card-updates\" data-test=\"property-details\" href=\"/properties/82665876#/?channel=RES_BUY\"><address class=\"propertyCard-address property-card-updates\" itemprop=\"address\"><meta content=\"Windmill Lane,\n",
       " Stratford,\n",
       " London,\n",
       " E15\" itemprop=\"streetAddress\"/><meta content=\"GB\" itemprop=\"addressCountry\"/>Windmill Lane,\n",
       " Stratford,\n",
       " London,\n",
       " E15</address><div class=\"property-information\"><span class=\"text\">Apartment</span><span class=\"seperator\">|</span><span class=\"no-svg-bed-icon bed-icon\"><svg viewbox=\"0 -2 16 14\"><title>3 bedrooms</title><use xlink:href=\"#core-icon--bed-icon\"></use></svg></span><span aria-hidden=\"true\" class=\"text\">3</span><span class=\"seperator\">|</span><span class=\"no-svg-bathroom-icon bathroom-icon\"><svg viewbox=\"0 0 14 16\"><title>2 bathrooms</title><use xlink:href=\"#core-icon--bathroom-icon\"></use></svg></span><span aria-hidden=\"true\" class=\"text\">2</span></div></a>,\n",
       " <a class=\"propertyCard-link property-card-updates\" data-test=\"property-details\" href=\"/properties/116733542#/?channel=RES_BUY\"><address class=\"propertyCard-address property-card-updates\" itemprop=\"address\"><meta content=\"New Garden Quarter, London E15\" itemprop=\"streetAddress\"/><meta content=\"GB\" itemprop=\"addressCountry\"/>New Garden Quarter, London E15</address><div class=\"property-information\"><span class=\"text\">Apartment</span><span class=\"seperator\">|</span><span class=\"no-svg-bed-icon bed-icon\"><svg viewbox=\"0 -2 16 14\"><title>3 bedrooms</title><use xlink:href=\"#core-icon--bed-icon\"></use></svg></span><span aria-hidden=\"true\" class=\"text\">3</span><span class=\"seperator\">|</span><span class=\"no-svg-bathroom-icon bathroom-icon\"><svg viewbox=\"0 0 14 16\"><title>2 bathrooms</title><use xlink:href=\"#core-icon--bathroom-icon\"></use></svg></span><span aria-hidden=\"true\" class=\"text\">2</span></div></a>,\n",
       " <a class=\"propertyCard-link property-card-updates\" data-test=\"property-details\" href=\"/properties/89044105#/?channel=RES_BUY\"><address class=\"propertyCard-address property-card-updates\" itemprop=\"address\"><meta content=\"STRATFORD LOFTS, 22 INTERNATIONAL WAY, Stratford, London, E20\" itemprop=\"streetAddress\"/><meta content=\"GB\" itemprop=\"addressCountry\"/>STRATFORD LOFTS, 22 INTERNATIONAL WAY, Stratford, London, E20</address><div class=\"property-information\"><span class=\"text\">Flat</span><span class=\"seperator\">|</span><span class=\"no-svg-bed-icon bed-icon\"><svg viewbox=\"0 -2 16 14\"><title>2 bedrooms</title><use xlink:href=\"#core-icon--bed-icon\"></use></svg></span><span aria-hidden=\"true\" class=\"text\">2</span><span class=\"seperator\">|</span><span class=\"no-svg-bathroom-icon bathroom-icon\"><svg viewbox=\"0 0 14 16\"><title>2 bathrooms</title><use xlink:href=\"#core-icon--bathroom-icon\"></use></svg></span><span aria-hidden=\"true\" class=\"text\">2</span></div></a>,\n",
       " <a class=\"propertyCard-link property-card-updates\" data-test=\"property-details\" href=\"/properties/119760758#/?channel=RES_BUY\"><address class=\"propertyCard-address property-card-updates\" itemprop=\"address\"><meta content=\"Manhattan Loft Apartments, International Way E20\" itemprop=\"streetAddress\"/><meta content=\"GB\" itemprop=\"addressCountry\"/>Manhattan Loft Apartments, International Way E20</address><div class=\"property-information\"><span class=\"text\">Apartment</span><span class=\"seperator\">|</span><span class=\"no-svg-bed-icon bed-icon\"><svg viewbox=\"0 -2 16 14\"><title>2 bedrooms</title><use xlink:href=\"#core-icon--bed-icon\"></use></svg></span><span aria-hidden=\"true\" class=\"text\">2</span><span class=\"seperator\">|</span><span class=\"no-svg-bathroom-icon bathroom-icon\"><svg viewbox=\"0 0 14 16\"><title>2 bathrooms</title><use xlink:href=\"#core-icon--bathroom-icon\"></use></svg></span><span aria-hidden=\"true\" class=\"text\">2</span></div></a>,\n",
       " <a class=\"propertyCard-link property-card-updates\" data-test=\"property-details\" href=\"/properties/93683264#/?channel=RES_BUY\"><address class=\"propertyCard-address property-card-updates\" itemprop=\"address\"><meta content=\"Glasshouse Gardens, Stratford\" itemprop=\"streetAddress\"/><meta content=\"GB\" itemprop=\"addressCountry\"/>Glasshouse Gardens, Stratford</address><div class=\"property-information\"><span class=\"text\">Flat</span><span class=\"seperator\">|</span><span class=\"no-svg-bed-icon bed-icon\"><svg viewbox=\"0 -2 16 14\"><title>2 bedrooms</title><use xlink:href=\"#core-icon--bed-icon\"></use></svg></span><span aria-hidden=\"true\" class=\"text\">2</span><span class=\"seperator\">|</span><span class=\"no-svg-bathroom-icon bathroom-icon\"><svg viewbox=\"0 0 14 16\"><title>2 bathrooms</title><use xlink:href=\"#core-icon--bathroom-icon\"></use></svg></span><span aria-hidden=\"true\" class=\"text\">2</span></div></a>]"
      ]
     },
     "execution_count": 73,
     "metadata": {},
     "output_type": "execute_result"
    }
   ],
   "source": [
    "soup = BeautifulSoup(driver.page_source, 'html.parser')\n",
    "listings = soup.find_all(\"a\", class_=\"propertyCard-link property-card-updates\")\n",
    "listings[:5]"
   ]
  },
  {
   "cell_type": "code",
   "execution_count": 74,
   "metadata": {},
   "outputs": [
    {
     "data": {
      "text/plain": [
       "'/properties/82665876#/?channel=RES_BUY'"
      ]
     },
     "execution_count": 74,
     "metadata": {},
     "output_type": "execute_result"
    }
   ],
   "source": [
    "listings[0]['href']"
   ]
  },
  {
   "cell_type": "code",
   "execution_count": 75,
   "metadata": {},
   "outputs": [
    {
     "data": {
      "text/plain": [
       "['https://www.rightmove.co.uk/properties/82665876#/?channel=RES_BUY',\n",
       " 'https://www.rightmove.co.uk/properties/116733542#/?channel=RES_BUY',\n",
       " 'https://www.rightmove.co.uk/properties/89044105#/?channel=RES_BUY',\n",
       " 'https://www.rightmove.co.uk/properties/119760758#/?channel=RES_BUY',\n",
       " 'https://www.rightmove.co.uk/properties/93683264#/?channel=RES_BUY',\n",
       " 'https://www.rightmove.co.uk/properties/107603531#/?channel=RES_BUY',\n",
       " 'https://www.rightmove.co.uk/properties/114425243#/?channel=RES_BUY',\n",
       " 'https://www.rightmove.co.uk/properties/114544421#/?channel=RES_BUY',\n",
       " 'https://www.rightmove.co.uk/properties/113724731#/?channel=RES_BUY',\n",
       " 'https://www.rightmove.co.uk/properties/119459933#/?channel=RES_BUY',\n",
       " 'https://www.rightmove.co.uk/properties/118949906#/?channel=RES_BUY',\n",
       " 'https://www.rightmove.co.uk/properties/117951614#/?channel=RES_BUY',\n",
       " 'https://www.rightmove.co.uk/properties/113852489#/?channel=RES_BUY',\n",
       " 'https://www.rightmove.co.uk/properties/113839823#/?channel=RES_BUY',\n",
       " 'https://www.rightmove.co.uk/properties/119907953#/?channel=RES_BUY',\n",
       " 'https://www.rightmove.co.uk/properties/116014085#/?channel=RES_BUY',\n",
       " 'https://www.rightmove.co.uk/properties/119994605#/?channel=RES_BUY',\n",
       " 'https://www.rightmove.co.uk/properties/110622209#/?channel=RES_BUY',\n",
       " 'https://www.rightmove.co.uk/properties/119663804#/?channel=RES_BUY',\n",
       " 'https://www.rightmove.co.uk/properties/112543730#/?channel=RES_BUY',\n",
       " 'https://www.rightmove.co.uk/properties/119815430#/?channel=RES_BUY',\n",
       " 'https://www.rightmove.co.uk/properties/112584110#/?channel=RES_BUY',\n",
       " 'https://www.rightmove.co.uk/properties/112552124#/?channel=RES_BUY',\n",
       " 'https://www.rightmove.co.uk/properties/115965770#/?channel=RES_BUY',\n",
       " 'https://www.rightmove.co.uk/properties/81975594#/?channel=RES_BUY']"
      ]
     },
     "execution_count": 75,
     "metadata": {},
     "output_type": "execute_result"
    }
   ],
   "source": [
    "house_links = ['https://www.rightmove.co.uk'+row['href'] for row in listings]\n",
    "house_links"
   ]
  },
  {
   "cell_type": "code",
   "execution_count": 76,
   "metadata": {},
   "outputs": [],
   "source": [
    "next_button = soup.find_all(\"button\", class_=\"pagination-button pagination-direction pagination-direction--next\")"
   ]
  },
  {
   "cell_type": "code",
   "execution_count": 79,
   "metadata": {},
   "outputs": [],
   "source": [
    "next_page = driver.find_element_by_css_selector(\"#l-container > div.l-propertySearch-paginationWrapper > div > div > div > div:nth-child(3) > button\")\n",
    "next_page.click()"
   ]
  },
  {
   "cell_type": "code",
   "execution_count": 85,
   "metadata": {},
   "outputs": [
    {
     "ename": "SyntaxError",
     "evalue": "keyword can't be an expression (<ipython-input-85-70378dd97b64>, line 4)",
     "output_type": "error",
     "traceback": [
      "\u001b[0;36m  File \u001b[0;32m\"<ipython-input-85-70378dd97b64>\"\u001b[0;36m, line \u001b[0;32m4\u001b[0m\n\u001b[0;31m    maxPageCount = int(html_soup.find('button', data-bind = 'pagination-pageInfo').text)+1\u001b[0m\n\u001b[0m                                               ^\u001b[0m\n\u001b[0;31mSyntaxError\u001b[0m\u001b[0;31m:\u001b[0m keyword can't be an expression\n"
     ]
    }
   ],
   "source": [
    "pageCounter = 0\n",
    "\n",
    "html_soup = BeautifulSoup(driver.page_source, 'html.parser')\n",
    "maxPageCount = int(html_soup.find('button',  = 'pagination-pageInfo').text)+1\n",
    "\n"
   ]
  },
  {
   "cell_type": "code",
   "execution_count": null,
   "metadata": {},
   "outputs": [],
   "source": []
  }
 ],
 "metadata": {
  "interpreter": {
   "hash": "dec69900849d04578f38cd8a3b3f9451f8fade2b73543ff492c6ab046346f614"
  },
  "kernelspec": {
   "display_name": "Python 3.7.11 ('py3')",
   "language": "python",
   "name": "python3"
  },
  "language_info": {
   "codemirror_mode": {
    "name": "ipython",
    "version": 3
   },
   "file_extension": ".py",
   "mimetype": "text/x-python",
   "name": "python",
   "nbconvert_exporter": "python",
   "pygments_lexer": "ipython3",
   "version": "3.7.11"
  },
  "orig_nbformat": 4
 },
 "nbformat": 4,
 "nbformat_minor": 2
}
=======

import datetime as dt
from lxml import html
import numpy as np
import pandas as pd
import requests


class RightmoveData:
    """The `RightmoveData` webscraper collects structured data on properties
    returned by a search performed on www.rightmove.co.uk

    An instance of the class provides attributes to access data from the search
    results, the most useful being `get_results`, which returns all results as a
    Pandas DataFrame object.

    The query to rightmove can be renewed by calling the `refresh_data` method.
    """
    def __init__(self, url: str, get_floorplans: bool = False):
        """Initialize the scraper with a URL from the results of a property
        search performed on www.rightmove.co.uk.

        Args:
            url (str): full HTML link to a page of rightmove search results.
            get_floorplans (bool): optionally scrape links to the individual
                floor plan images for each listing (be warned this drastically
                increases runtime so is False by default).
        """
        self._status_code, self._first_page = self._request(url)
        self._url = url
        self._validate_url()
        self._results = self._get_results(get_floorplans=get_floorplans)

    @staticmethod
    def _request(url: str):
        r = requests.get(url)
        return r.status_code, r.content

    def refresh_data(self, url: str = None, get_floorplans: bool = False):
        """Make a fresh GET request for the rightmove data.

        Args:
            url (str): optionally pass a new HTML link to a page of rightmove
                search results (else defaults to the current `url` attribute).
            get_floorplans (bool): optionally scrape links to the individual
                flooplan images for each listing (this drastically increases
                runtime so is False by default).
        """
        url = self.url if not url else url
        self._status_code, self._first_page = self._request(url)
        self._url = url
        self._validate_url()
        self._results = self._get_results(get_floorplans=get_floorplans)

    def _validate_url(self):
        """Basic validation that the URL at least starts in the right format and
        returns status code 200."""
        real_url = "{}://www.rightmove.co.uk/{}/find.html?"
        protocols = ["http", "https"]
        types = ["property-to-rent", "property-for-sale", "new-homes-for-sale"]
        urls = [real_url.format(p, t) for p in protocols for t in types]
        conditions = [self.url.startswith(u) for u in urls]
        conditions.append(self._status_code == 200)
        if not any(conditions):
            raise ValueError(f"Invalid rightmove search URL:\n\n\t{self.url}")

    @property
    def url(self):
        return self._url

    @property
    def get_results(self):
        """Pandas DataFrame of all results returned by the search."""
        return self._results

    @property
    def results_count(self):
        """Total number of results returned by `get_results`. Note that the
        rightmove website may state a much higher number of results; this is
        because they artificially restrict the number of results pages that can
        be accessed to 42."""
        return len(self.get_results)

    @property
    def average_price(self):
        """Average price of all results returned by `get_results` (ignoring
        results which don't list a price)."""
        total = self.get_results["price"].dropna().sum()
        return total / self.results_count

    def summary(self, by: str = None):
        """DataFrame summarising results by mean price and count. Defaults to
        grouping by `number_bedrooms` (residential) or `type` (commercial), but
        accepts any column name from `get_results` as a grouper.

        Args:
            by (str): valid column name from `get_results` DataFrame attribute.
        """
        if not by:
            by = "type" if "commercial" in self.rent_or_sale else "number_bedrooms"
        assert by in self.get_results.columns, f"Column not found in `get_results`: {by}"
        df = self.get_results.dropna(axis=0, subset=["price"])
        groupers = {"price": ["count", "mean"]}
        df = df.groupby(df[by]).agg(groupers)
        df.columns = df.columns.get_level_values(1)
        df.reset_index(inplace=True)
        if "number_bedrooms" in df.columns:
            df["number_bedrooms"] = df["number_bedrooms"].astype(int)
            df.sort_values(by=["number_bedrooms"], inplace=True)
        else:
            df.sort_values(by=["count"], inplace=True, ascending=False)
        return df.reset_index(drop=True)

    @property
    def rent_or_sale(self):
        """String specifying if the search is for properties for rent or sale.
        Required because Xpaths are different for the target elements."""
        if "/property-for-sale/" in self.url or "/new-homes-for-sale/" in self.url:
            return "sale"
        elif "/property-to-rent/" in self.url:
            return "rent"
        elif "/commercial-property-for-sale/" in self.url:
            return "sale-commercial"
        elif "/commercial-property-to-let/" in self.url:
            return "rent-commercial"
        else:
            raise ValueError(f"Invalid rightmove URL:\n\n\t{self.url}")

    @property
    def results_count_display(self):
        """Returns an integer of the total number of listings as displayed on
        the first page of results. Note that not all listings are available to
        scrape because rightmove limits the number of accessible pages."""
        tree = html.fromstring(self._first_page)
        xpath = """//span[@class="searchHeader-resultCount"]/text()"""
        return int(tree.xpath(xpath)[0].replace(",", ""))

    @property
    def page_count(self):
        """Returns the number of result pages returned by the search URL. There
        are 24 results per page. Note that the website limits results to a
        maximum of 42 accessible pages."""
        page_count = self.results_count_display // 24
        if self.results_count_display % 24 > 0:
            page_count += 1
        # Rightmove will return a maximum of 42 results pages, hence:
        if page_count > 42:
            page_count = 42
        return page_count

    def _get_page(self, request_content: str, get_floorplans: bool = False):
        """Method to scrape data from a single page of search results. Used
        iteratively by the `get_results` method to scrape data from every page
        returned by the search."""
        # Process the html:
        tree = html.fromstring(request_content)

        # Set xpath for price:
        if "rent" in self.rent_or_sale:
            xp_prices = """//span[@class="propertyCard-priceValue"]/text()"""
        elif "sale" in self.rent_or_sale:
            xp_prices = """//div[@class="propertyCard-priceValue"]/text()"""
        else:
            raise ValueError("Invalid URL format.")

        # Set xpaths for listing title, property address, URL, and agent URL:
        xp_titles = """//div[@class="propertyCard-details"]\
        //a[@class="propertyCard-link"]\
        //h2[@class="propertyCard-title"]/text()"""
        xp_addresses = """//address[@class="propertyCard-address"]//span/text()"""
        xp_weblinks = """//div[@class="propertyCard-details"]//a[@class="propertyCard-link"]/@href"""
        xp_agent_urls = """//div[@class="propertyCard-contactsItem"]\
        //div[@class="propertyCard-branchLogo"]\
        //a[@class="propertyCard-branchLogo-link"]/@href"""

        # Create data lists from xpaths:
        price_pcm = tree.xpath(xp_prices)
        titles = tree.xpath(xp_titles)
        addresses = tree.xpath(xp_addresses)
        base = "http://www.rightmove.co.uk"
        weblinks = [f"{base}{tree.xpath(xp_weblinks)[w]}" for w in range(len(tree.xpath(xp_weblinks)))]
        agent_urls = [f"{base}{tree.xpath(xp_agent_urls)[a]}" for a in range(len(tree.xpath(xp_agent_urls)))]

        # Optionally get floorplan links from property urls (longer runtime):
        floorplan_urls = list() if get_floorplans else np.nan
        if get_floorplans:
            for weblink in weblinks:
                status_code, content = self._request(weblink)
                if status_code != 200:
                    continue
                tree = html.fromstring(content)
                xp_floorplan_url = """//*[@id="floorplanTabs"]/div[2]/div[2]/img/@src"""
                floorplan_url = tree.xpath(xp_floorplan_url)
                if floorplan_url:
                    floorplan_urls.append(floorplan_url[0])
                else:
                    floorplan_urls.append(np.nan)

        # Store the data in a Pandas DataFrame:
        data = [price_pcm, titles, addresses, weblinks, agent_urls]
        data = data + [floorplan_urls] if get_floorplans else data
        temp_df = pd.DataFrame(data)
        temp_df = temp_df.transpose()
        columns = ["price", "type", "address", "url", "agent_url"]
        columns = columns + ["floorplan_url"] if get_floorplans else columns
        temp_df.columns = columns

        # Drop empty rows which come from placeholders in the html:
        temp_df = temp_df[temp_df["address"].notnull()]

        return temp_df

    def _get_results(self, get_floorplans: bool = False):
        """Build a Pandas DataFrame with all results returned by the search."""
        results = self._get_page(self._first_page, get_floorplans=get_floorplans)

        # Iterate through all pages scraping results:
        for p in range(1, self.page_count + 1, 1):

            # Create the URL of the specific results page:
            p_url = f"{str(self.url)}&index={p * 24}"

            # Make the request:
            status_code, content = self._request(p_url)

            # Requests to scrape lots of pages eventually get status 400, so:
            if status_code != 200:
                break

            # Create a temporary DataFrame of page results:
            temp_df = self._get_page(content, get_floorplans=get_floorplans)

            # Concatenate the temporary DataFrame with the full DataFrame:
            frames = [results, temp_df]
            results = pd.concat(frames)

        # Reset the index:
        results.reset_index(inplace=True, drop=True)

        # Convert price column to numeric type:
        results["price"].replace(regex=True, inplace=True, to_replace=r"\D", value=r"")
        results["price"] = pd.to_numeric(results["price"])

        # Extract postcodes to a separate column:
        pat = r"\b([A-Za-z][A-Za-z]?[0-9][0-9]?[A-Za-z]?)\b"
        results["postcode"] = results["address"].astype(str).str.extract(pat, expand=True)

        # Extract number of bedrooms from `type` to a separate column:
        pat = r"\b([\d][\d]?)\b"
        results["number_bedrooms"] = results["type"].astype(str).str.extract(pat, expand=True)
        results.loc[results["type"].str.contains("studio", case=False), "number_bedrooms"] = 0
        results["number_bedrooms"] = pd.to_numeric(results["number_bedrooms"])

        # Clean up annoying white spaces and newlines in `type` column:
        results["type"] = results["type"].str.strip("\n").str.strip()

        # Add column with datetime when the search was run (i.e. now):
        now = dt.datetime.today()
        results["search_date"] = now

        return results
>>>>>>> 5b4eb6b8cd22dc0ae045e000bc50cd2c6e4c5b91
