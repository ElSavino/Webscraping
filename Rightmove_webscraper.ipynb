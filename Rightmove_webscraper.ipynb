{
 "cells": [
  {
   "cell_type": "code",
   "execution_count": 207,
   "metadata": {},
   "outputs": [],
   "source": [
    "import os\n",
    "from bs4 import BeautifulSoup\n",
    "from selenium import webdriver\n",
    "from selenium.webdriver.common.keys import Keys\n",
    "from selenium.webdriver.common.by import By\n",
    "import time\n",
    "import sys\n",
    "import numpy as np\n",
    "import pandas as pd\n",
    "import regex as re\n",
    "import requests\n",
    "import random"
   ]
  },
  {
   "cell_type": "code",
   "execution_count": 208,
   "metadata": {},
   "outputs": [
    {
     "name": "stdout",
     "output_type": "stream",
     "text": [
      "chromedriver path: /Users/I511581/Documents\n"
     ]
    }
   ],
   "source": [
    "chromedriver = \"/Users/I511581/Documents\" # path to the chromedriver executable\n",
    "chromedriver = os.path.expanduser(chromedriver)\n",
    "print('chromedriver path: {}'.format(chromedriver))\n",
    "sys.path.append(chromedriver)\n",
    "driver = webdriver.Chrome(executable_path=\"/Users/I511581/chromedriver\")"
   ]
  },
  {
   "cell_type": "code",
   "execution_count": 209,
   "metadata": {},
   "outputs": [],
   "source": [
    "url = \"https://www.rightmove.co.uk/property-for-sale/find.html?locationIdentifier=REGION%5E85312&maxBedrooms=3&minBedrooms=2&maxPrice=800000&minPrice=600000&radius=0.25&propertyTypes=&includeSSTC=false&mustHave=&dontShow=&furnishTypes=&keywords=\"\n",
    "driver.get(url)"
   ]
  },
  {
   "cell_type": "code",
   "execution_count": 210,
   "metadata": {},
   "outputs": [
    {
     "data": {
      "text/plain": [
       "[<a class=\"propertyCard-link property-card-updates\" data-test=\"property-details\" href=\"/properties/120052040#/?channel=RES_BUY\"><address class=\"propertyCard-address property-card-updates\" itemprop=\"address\"><meta content=\"Portway, Stratford, London, E15\" itemprop=\"streetAddress\"/><meta content=\"GB\" itemprop=\"addressCountry\"/>Portway, Stratford, London, E15</address><div class=\"property-information\"><span class=\"text\">House</span><span class=\"seperator\">|</span><span class=\"no-svg-bed-icon bed-icon\"><svg viewbox=\"0 -2 16 14\"><title>3 bedrooms</title><use xlink:href=\"#core-icon--bed-icon\"></use></svg></span><span aria-hidden=\"true\" class=\"text\">3</span><span class=\"seperator\">|</span><span class=\"no-svg-bathroom-icon bathroom-icon\"><svg viewbox=\"0 0 14 16\"><title>1 bathroom</title><use xlink:href=\"#core-icon--bathroom-icon\"></use></svg></span><span aria-hidden=\"true\" class=\"text\">1</span></div></a>,\n",
       " <a class=\"propertyCard-link property-card-updates\" data-test=\"property-details\" href=\"/properties/116733542#/?channel=RES_BUY\"><address class=\"propertyCard-address property-card-updates\" itemprop=\"address\"><meta content=\"New Garden Quarter, London E15\" itemprop=\"streetAddress\"/><meta content=\"GB\" itemprop=\"addressCountry\"/>New Garden Quarter, London E15</address><div class=\"property-information\"><span class=\"text\">Apartment</span><span class=\"seperator\">|</span><span class=\"no-svg-bed-icon bed-icon\"><svg viewbox=\"0 -2 16 14\"><title>3 bedrooms</title><use xlink:href=\"#core-icon--bed-icon\"></use></svg></span><span aria-hidden=\"true\" class=\"text\">3</span><span class=\"seperator\">|</span><span class=\"no-svg-bathroom-icon bathroom-icon\"><svg viewbox=\"0 0 14 16\"><title>2 bathrooms</title><use xlink:href=\"#core-icon--bathroom-icon\"></use></svg></span><span aria-hidden=\"true\" class=\"text\">2</span></div></a>,\n",
       " <a class=\"propertyCard-link property-card-updates\" data-test=\"property-details\" href=\"/properties/89044105#/?channel=RES_BUY\"><address class=\"propertyCard-address property-card-updates\" itemprop=\"address\"><meta content=\"STRATFORD LOFTS, 22 INTERNATIONAL WAY, Stratford, London, E20\" itemprop=\"streetAddress\"/><meta content=\"GB\" itemprop=\"addressCountry\"/>STRATFORD LOFTS, 22 INTERNATIONAL WAY, Stratford, London, E20</address><div class=\"property-information\"><span class=\"text\">Flat</span><span class=\"seperator\">|</span><span class=\"no-svg-bed-icon bed-icon\"><svg viewbox=\"0 -2 16 14\"><title>2 bedrooms</title><use xlink:href=\"#core-icon--bed-icon\"></use></svg></span><span aria-hidden=\"true\" class=\"text\">2</span><span class=\"seperator\">|</span><span class=\"no-svg-bathroom-icon bathroom-icon\"><svg viewbox=\"0 0 14 16\"><title>2 bathrooms</title><use xlink:href=\"#core-icon--bathroom-icon\"></use></svg></span><span aria-hidden=\"true\" class=\"text\">2</span></div></a>,\n",
       " <a class=\"propertyCard-link property-card-updates\" data-test=\"property-details\" href=\"/properties/118997666#/?channel=RES_BUY\"><address class=\"propertyCard-address property-card-updates\" itemprop=\"address\"><meta content=\"Hyett Court, E20\" itemprop=\"streetAddress\"/><meta content=\"GB\" itemprop=\"addressCountry\"/>Hyett Court, E20</address><div class=\"property-information\"><span class=\"text\">Flat</span><span class=\"seperator\">|</span><span class=\"no-svg-bed-icon bed-icon\"><svg viewbox=\"0 -2 16 14\"><title>3 bedrooms</title><use xlink:href=\"#core-icon--bed-icon\"></use></svg></span><span aria-hidden=\"true\" class=\"text\">3</span><span class=\"seperator\">|</span><span class=\"no-svg-bathroom-icon bathroom-icon\"><svg viewbox=\"0 0 14 16\"><title>2 bathrooms</title><use xlink:href=\"#core-icon--bathroom-icon\"></use></svg></span><span aria-hidden=\"true\" class=\"text\">2</span></div></a>,\n",
       " <a class=\"propertyCard-link property-card-updates\" data-test=\"property-details\" href=\"/properties/119760758#/?channel=RES_BUY\"><address class=\"propertyCard-address property-card-updates\" itemprop=\"address\"><meta content=\"Manhattan Loft Apartments, International Way E20\" itemprop=\"streetAddress\"/><meta content=\"GB\" itemprop=\"addressCountry\"/>Manhattan Loft Apartments, International Way E20</address><div class=\"property-information\"><span class=\"text\">Apartment</span><span class=\"seperator\">|</span><span class=\"no-svg-bed-icon bed-icon\"><svg viewbox=\"0 -2 16 14\"><title>2 bedrooms</title><use xlink:href=\"#core-icon--bed-icon\"></use></svg></span><span aria-hidden=\"true\" class=\"text\">2</span><span class=\"seperator\">|</span><span class=\"no-svg-bathroom-icon bathroom-icon\"><svg viewbox=\"0 0 14 16\"><title>2 bathrooms</title><use xlink:href=\"#core-icon--bathroom-icon\"></use></svg></span><span aria-hidden=\"true\" class=\"text\">2</span></div></a>]"
      ]
     },
     "execution_count": 210,
     "metadata": {},
     "output_type": "execute_result"
    }
   ],
   "source": [
    "soup = BeautifulSoup(driver.page_source, 'html.parser')\n",
    "listings = soup.find_all(\"a\", class_=\"propertyCard-link property-card-updates\")\n",
    "listings[:5]"
   ]
  },
  {
   "cell_type": "code",
   "execution_count": 212,
   "metadata": {},
   "outputs": [
    {
     "ename": "AttributeError",
     "evalue": "'NoneType' object has no attribute 'get_text'",
     "output_type": "error",
     "traceback": [
      "\u001b[0;31m---------------------------------------------------------------------------\u001b[0m",
      "\u001b[0;31mAttributeError\u001b[0m                            Traceback (most recent call last)",
      "\u001b[0;32m<ipython-input-212-a19084f7ac06>\u001b[0m in \u001b[0;36m<module>\u001b[0;34m\u001b[0m\n\u001b[1;32m     91\u001b[0m \u001b[0;34m\u001b[0m\u001b[0m\n\u001b[1;32m     92\u001b[0m \u001b[0;32mif\u001b[0m \u001b[0m__name__\u001b[0m \u001b[0;34m==\u001b[0m \u001b[0;34m\"__main__\"\u001b[0m\u001b[0;34m:\u001b[0m\u001b[0;34m\u001b[0m\u001b[0;34m\u001b[0m\u001b[0m\n\u001b[0;32m---> 93\u001b[0;31m     \u001b[0mmain\u001b[0m\u001b[0;34m(\u001b[0m\u001b[0;34m)\u001b[0m\u001b[0;34m\u001b[0m\u001b[0;34m\u001b[0m\u001b[0m\n\u001b[0m",
      "\u001b[0;32m<ipython-input-212-a19084f7ac06>\u001b[0m in \u001b[0;36mmain\u001b[0;34m()\u001b[0m\n\u001b[1;32m     53\u001b[0m             \u001b[0;31m# append description\u001b[0m\u001b[0;34m\u001b[0m\u001b[0;34m\u001b[0m\u001b[0;34m\u001b[0m\u001b[0m\n\u001b[1;32m     54\u001b[0m             description = (\n\u001b[0;32m---> 55\u001b[0;31m                 \u001b[0mapartment_info\u001b[0m\u001b[0;34m.\u001b[0m\u001b[0mfind\u001b[0m\u001b[0;34m(\u001b[0m\u001b[0;34m\"h2\"\u001b[0m\u001b[0;34m,\u001b[0m \u001b[0mclass_\u001b[0m\u001b[0;34m=\u001b[0m\u001b[0;34m\"propertyCard-title\"\u001b[0m\u001b[0;34m)\u001b[0m\u001b[0;34m\u001b[0m\u001b[0;34m\u001b[0m\u001b[0m\n\u001b[0m\u001b[1;32m     56\u001b[0m                 \u001b[0;34m.\u001b[0m\u001b[0mget_text\u001b[0m\u001b[0;34m(\u001b[0m\u001b[0;34m)\u001b[0m\u001b[0;34m\u001b[0m\u001b[0;34m\u001b[0m\u001b[0m\n\u001b[1;32m     57\u001b[0m                 \u001b[0;34m.\u001b[0m\u001b[0mstrip\u001b[0m\u001b[0;34m(\u001b[0m\u001b[0;34m)\u001b[0m\u001b[0;34m\u001b[0m\u001b[0;34m\u001b[0m\u001b[0m\n",
      "\u001b[0;31mAttributeError\u001b[0m: 'NoneType' object has no attribute 'get_text'"
     ]
    }
   ],
   "source": [
    "def main():\n",
    "\n",
    "    # initialise index, this tracks the page number we are on. every additional page adds 24 to the index\n",
    "\n",
    "    # create lists to store our data\n",
    "    all_apartment_links = []\n",
    "    all_description = []\n",
    "    all_address = []\n",
    "    all_price = []\n",
    "\n",
    "\n",
    "    index = 0\n",
    "    for pages in range(5):\n",
    "        headers = {\n",
    "            \"User-Agent\": \"Mozilla/5.0 (Windows NT 10.0; Win64; x64) AppleWebKit/537.36 (KHTML, like Gecko) Chrome/89.0.4389.114 Safari/537.36\"\n",
    "        }\n",
    "\n",
    "        if index == 0:\n",
    "            rightmove = f\"https://www.rightmove.co.uk/property-for-sale/find.html?locationIdentifier=REGION%5E85312&&maxBedrooms=3&minBedrooms=2&maxPrice=800000&minPrice=600000&radius=0.25&propertyTypes=&includeSSTC=false&mustHave=&dontShow=&furnishTypes=&keywords=\"\n",
    "        elif index != 0:\n",
    "            rightmove = f\"https://www.rightmove.co.uk/property-for-sale/find.html?locationIdentifier=REGION%5E85312&&maxBedrooms=3&minBedrooms=2&maxPrice=800000&minPrice=600000&radius=0.25&index={index}&propertyTypes=&includeSSTC=false&mustHave=&dontShow=&furnishTypes=&keywords=\"\n",
    "\n",
    "        # request our webpage\n",
    "        res = requests.get(rightmove, headers=headers)\n",
    "        # check status\n",
    "        res.raise_for_status()\n",
    "\n",
    "        # This gets the list of apartments\n",
    "        apartments = soup.find_all(\"div\", class_=\"l-searchResult is-list\")\n",
    "\n",
    "        # This gets the number of listings\n",
    "        number_of_listings = soup.find(\"span\", {\"class\": \"searchHeader-resultCount\"})\n",
    "        number_of_listings = number_of_listings.get_text()\n",
    "        number_of_listings = int(number_of_listings.replace(\",\", \"\"))\n",
    "\n",
    "        for i in range(len(apartments)):\n",
    "            # tracks which apartment we are on in the page\n",
    "            first_var = apartments[i]\n",
    "\n",
    "            # append link\n",
    "            apartment_info = first_var.find(\"a\", class_=\"propertyCard-link\")\n",
    "            link = \"https://www.rightmove.co.uk\" + apartment_info.attrs[\"href\"]\n",
    "            all_apartment_links.append(link)\n",
    "\n",
    "            # append address\n",
    "            address = (\n",
    "                apartment_info.find(\"address\", class_=\"propertyCard-address\")\n",
    "                .get_text()\n",
    "                .strip()\n",
    "            )\n",
    "            all_address.append(address)\n",
    "\n",
    "            # append description\n",
    "            description = (\n",
    "                apartment_info.find(\"h2\", class_=\"propertyCard-title\")\n",
    "                .get_text()\n",
    "                .strip()\n",
    "            )\n",
    "            all_description.append(description)\n",
    "\n",
    "            # append price\n",
    "            price = (\n",
    "                first_var.find(\"div\", class_=\"propertyCard-priceValue\")\n",
    "                .get_text()\n",
    "                .strip()\n",
    "            )\n",
    "            all_price.append(price)\n",
    "\n",
    "\n",
    "            print(f\"You have scrapped {pages + 1} pages of apartment listings.\")\n",
    "            print(f\"You have {number_of_listings - index} listings left to go\")\n",
    "            print(\"\\n\")\n",
    "\n",
    "        # Between each request, set up a random delay between 1 and 3 seconds\n",
    "        time.sleep(random.randint(1,3))\n",
    "        index = index + 24\n",
    "        if index >= number_of_listings:\n",
    "            break\n",
    "\n",
    "    # convert data to dataframe\n",
    "    data = {\n",
    "        \"Links\": all_apartment_links,\n",
    "        \"Address\": all_address,\n",
    "        \"Description\": all_description,\n",
    "        \"Price\": all_price,\n",
    "    }\n",
    "\n",
    "    df = pd.DataFrame.from_dict(data)\n",
    "    df.to_csv(r\"rightmove_scraper.csv\", encoding=\"utf-8\", header=\"true\", index=False)\n",
    "\n",
    "\n",
    "if __name__ == \"__main__\":\n",
    "    main()"
   ]
  },
  {
   "cell_type": "code",
   "execution_count": null,
   "metadata": {},
   "outputs": [],
   "source": []
  }
 ],
 "metadata": {
  "interpreter": {
   "hash": "dec69900849d04578f38cd8a3b3f9451f8fade2b73543ff492c6ab046346f614"
  },
  "kernelspec": {
   "display_name": "Python 3.7.11 ('py3')",
   "language": "python",
   "name": "python3"
  },
  "language_info": {
   "codemirror_mode": {
    "name": "ipython",
    "version": 3
   },
   "file_extension": ".py",
   "mimetype": "text/x-python",
   "name": "python",
   "nbconvert_exporter": "python",
   "pygments_lexer": "ipython3",
   "version": "3.7.11"
  },
  "orig_nbformat": 4
 },
 "nbformat": 4,
 "nbformat_minor": 2
}
