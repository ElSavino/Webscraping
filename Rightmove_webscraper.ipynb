{
 "cells": [
  {
   "cell_type": "code",
   "execution_count": 70,
   "metadata": {},
   "outputs": [],
   "source": [
    "import os\n",
    "from bs4 import BeautifulSoup\n",
    "from selenium import webdriver\n",
    "from selenium.webdriver.common.keys import Keys\n",
    "from selenium.webdriver.common.by import By\n",
    "import time\n",
    "import sys\n",
    "import numpy as np\n",
    "import pandas as pd\n",
    "import regex as re"
   ]
  },
  {
   "cell_type": "code",
   "execution_count": 71,
   "metadata": {},
   "outputs": [
    {
     "name": "stdout",
     "output_type": "stream",
     "text": [
      "chromedriver path: /Users/I511581/Documents\n"
     ]
    }
   ],
   "source": [
    "chromedriver = \"/Users/I511581/Documents\" # path to the chromedriver executable\n",
    "chromedriver = os.path.expanduser(chromedriver)\n",
    "print('chromedriver path: {}'.format(chromedriver))\n",
    "sys.path.append(chromedriver)\n",
    "driver = webdriver.Chrome(executable_path=\"/Users/I511581/chromedriver\")"
   ]
  },
  {
   "cell_type": "code",
   "execution_count": 72,
   "metadata": {},
   "outputs": [],
   "source": [
    "url = \"https://www.rightmove.co.uk/property-for-sale/find.html?locationIdentifier=REGION%5E85312&maxBedrooms=3&minBedrooms=2&maxPrice=800000&minPrice=600000&radius=0.25&propertyTypes=&includeSSTC=false&mustHave=&dontShow=&furnishTypes=&keywords=\"\n",
    "driver.get(url)"
   ]
  },
  {
   "cell_type": "code",
   "execution_count": 73,
   "metadata": {},
   "outputs": [
    {
     "data": {
      "text/plain": [
       "[<a class=\"propertyCard-link property-card-updates\" data-test=\"property-details\" href=\"/properties/82665876#/?channel=RES_BUY\"><address class=\"propertyCard-address property-card-updates\" itemprop=\"address\"><meta content=\"Windmill Lane,\n",
       " Stratford,\n",
       " London,\n",
       " E15\" itemprop=\"streetAddress\"/><meta content=\"GB\" itemprop=\"addressCountry\"/>Windmill Lane,\n",
       " Stratford,\n",
       " London,\n",
       " E15</address><div class=\"property-information\"><span class=\"text\">Apartment</span><span class=\"seperator\">|</span><span class=\"no-svg-bed-icon bed-icon\"><svg viewbox=\"0 -2 16 14\"><title>3 bedrooms</title><use xlink:href=\"#core-icon--bed-icon\"></use></svg></span><span aria-hidden=\"true\" class=\"text\">3</span><span class=\"seperator\">|</span><span class=\"no-svg-bathroom-icon bathroom-icon\"><svg viewbox=\"0 0 14 16\"><title>2 bathrooms</title><use xlink:href=\"#core-icon--bathroom-icon\"></use></svg></span><span aria-hidden=\"true\" class=\"text\">2</span></div></a>,\n",
       " <a class=\"propertyCard-link property-card-updates\" data-test=\"property-details\" href=\"/properties/116733542#/?channel=RES_BUY\"><address class=\"propertyCard-address property-card-updates\" itemprop=\"address\"><meta content=\"New Garden Quarter, London E15\" itemprop=\"streetAddress\"/><meta content=\"GB\" itemprop=\"addressCountry\"/>New Garden Quarter, London E15</address><div class=\"property-information\"><span class=\"text\">Apartment</span><span class=\"seperator\">|</span><span class=\"no-svg-bed-icon bed-icon\"><svg viewbox=\"0 -2 16 14\"><title>3 bedrooms</title><use xlink:href=\"#core-icon--bed-icon\"></use></svg></span><span aria-hidden=\"true\" class=\"text\">3</span><span class=\"seperator\">|</span><span class=\"no-svg-bathroom-icon bathroom-icon\"><svg viewbox=\"0 0 14 16\"><title>2 bathrooms</title><use xlink:href=\"#core-icon--bathroom-icon\"></use></svg></span><span aria-hidden=\"true\" class=\"text\">2</span></div></a>,\n",
       " <a class=\"propertyCard-link property-card-updates\" data-test=\"property-details\" href=\"/properties/89044105#/?channel=RES_BUY\"><address class=\"propertyCard-address property-card-updates\" itemprop=\"address\"><meta content=\"STRATFORD LOFTS, 22 INTERNATIONAL WAY, Stratford, London, E20\" itemprop=\"streetAddress\"/><meta content=\"GB\" itemprop=\"addressCountry\"/>STRATFORD LOFTS, 22 INTERNATIONAL WAY, Stratford, London, E20</address><div class=\"property-information\"><span class=\"text\">Flat</span><span class=\"seperator\">|</span><span class=\"no-svg-bed-icon bed-icon\"><svg viewbox=\"0 -2 16 14\"><title>2 bedrooms</title><use xlink:href=\"#core-icon--bed-icon\"></use></svg></span><span aria-hidden=\"true\" class=\"text\">2</span><span class=\"seperator\">|</span><span class=\"no-svg-bathroom-icon bathroom-icon\"><svg viewbox=\"0 0 14 16\"><title>2 bathrooms</title><use xlink:href=\"#core-icon--bathroom-icon\"></use></svg></span><span aria-hidden=\"true\" class=\"text\">2</span></div></a>,\n",
       " <a class=\"propertyCard-link property-card-updates\" data-test=\"property-details\" href=\"/properties/119760758#/?channel=RES_BUY\"><address class=\"propertyCard-address property-card-updates\" itemprop=\"address\"><meta content=\"Manhattan Loft Apartments, International Way E20\" itemprop=\"streetAddress\"/><meta content=\"GB\" itemprop=\"addressCountry\"/>Manhattan Loft Apartments, International Way E20</address><div class=\"property-information\"><span class=\"text\">Apartment</span><span class=\"seperator\">|</span><span class=\"no-svg-bed-icon bed-icon\"><svg viewbox=\"0 -2 16 14\"><title>2 bedrooms</title><use xlink:href=\"#core-icon--bed-icon\"></use></svg></span><span aria-hidden=\"true\" class=\"text\">2</span><span class=\"seperator\">|</span><span class=\"no-svg-bathroom-icon bathroom-icon\"><svg viewbox=\"0 0 14 16\"><title>2 bathrooms</title><use xlink:href=\"#core-icon--bathroom-icon\"></use></svg></span><span aria-hidden=\"true\" class=\"text\">2</span></div></a>,\n",
       " <a class=\"propertyCard-link property-card-updates\" data-test=\"property-details\" href=\"/properties/93683264#/?channel=RES_BUY\"><address class=\"propertyCard-address property-card-updates\" itemprop=\"address\"><meta content=\"Glasshouse Gardens, Stratford\" itemprop=\"streetAddress\"/><meta content=\"GB\" itemprop=\"addressCountry\"/>Glasshouse Gardens, Stratford</address><div class=\"property-information\"><span class=\"text\">Flat</span><span class=\"seperator\">|</span><span class=\"no-svg-bed-icon bed-icon\"><svg viewbox=\"0 -2 16 14\"><title>2 bedrooms</title><use xlink:href=\"#core-icon--bed-icon\"></use></svg></span><span aria-hidden=\"true\" class=\"text\">2</span><span class=\"seperator\">|</span><span class=\"no-svg-bathroom-icon bathroom-icon\"><svg viewbox=\"0 0 14 16\"><title>2 bathrooms</title><use xlink:href=\"#core-icon--bathroom-icon\"></use></svg></span><span aria-hidden=\"true\" class=\"text\">2</span></div></a>]"
      ]
     },
     "execution_count": 73,
     "metadata": {},
     "output_type": "execute_result"
    }
   ],
   "source": [
    "soup = BeautifulSoup(driver.page_source, 'html.parser')\n",
    "listings = soup.find_all(\"a\", class_=\"propertyCard-link property-card-updates\")\n",
    "listings[:5]"
   ]
  },
  {
   "cell_type": "code",
   "execution_count": 74,
   "metadata": {},
   "outputs": [
    {
     "data": {
      "text/plain": [
       "'/properties/82665876#/?channel=RES_BUY'"
      ]
     },
     "execution_count": 74,
     "metadata": {},
     "output_type": "execute_result"
    }
   ],
   "source": [
    "listings[0]['href']"
   ]
  },
  {
   "cell_type": "code",
   "execution_count": 75,
   "metadata": {},
   "outputs": [
    {
     "data": {
      "text/plain": [
       "['https://www.rightmove.co.uk/properties/82665876#/?channel=RES_BUY',\n",
       " 'https://www.rightmove.co.uk/properties/116733542#/?channel=RES_BUY',\n",
       " 'https://www.rightmove.co.uk/properties/89044105#/?channel=RES_BUY',\n",
       " 'https://www.rightmove.co.uk/properties/119760758#/?channel=RES_BUY',\n",
       " 'https://www.rightmove.co.uk/properties/93683264#/?channel=RES_BUY',\n",
       " 'https://www.rightmove.co.uk/properties/107603531#/?channel=RES_BUY',\n",
       " 'https://www.rightmove.co.uk/properties/114425243#/?channel=RES_BUY',\n",
       " 'https://www.rightmove.co.uk/properties/114544421#/?channel=RES_BUY',\n",
       " 'https://www.rightmove.co.uk/properties/113724731#/?channel=RES_BUY',\n",
       " 'https://www.rightmove.co.uk/properties/119459933#/?channel=RES_BUY',\n",
       " 'https://www.rightmove.co.uk/properties/118949906#/?channel=RES_BUY',\n",
       " 'https://www.rightmove.co.uk/properties/117951614#/?channel=RES_BUY',\n",
       " 'https://www.rightmove.co.uk/properties/113852489#/?channel=RES_BUY',\n",
       " 'https://www.rightmove.co.uk/properties/113839823#/?channel=RES_BUY',\n",
       " 'https://www.rightmove.co.uk/properties/119907953#/?channel=RES_BUY',\n",
       " 'https://www.rightmove.co.uk/properties/116014085#/?channel=RES_BUY',\n",
       " 'https://www.rightmove.co.uk/properties/119994605#/?channel=RES_BUY',\n",
       " 'https://www.rightmove.co.uk/properties/110622209#/?channel=RES_BUY',\n",
       " 'https://www.rightmove.co.uk/properties/119663804#/?channel=RES_BUY',\n",
       " 'https://www.rightmove.co.uk/properties/112543730#/?channel=RES_BUY',\n",
       " 'https://www.rightmove.co.uk/properties/119815430#/?channel=RES_BUY',\n",
       " 'https://www.rightmove.co.uk/properties/112584110#/?channel=RES_BUY',\n",
       " 'https://www.rightmove.co.uk/properties/112552124#/?channel=RES_BUY',\n",
       " 'https://www.rightmove.co.uk/properties/115965770#/?channel=RES_BUY',\n",
       " 'https://www.rightmove.co.uk/properties/81975594#/?channel=RES_BUY']"
      ]
     },
     "execution_count": 75,
     "metadata": {},
     "output_type": "execute_result"
    }
   ],
   "source": [
    "house_links = ['https://www.rightmove.co.uk'+row['href'] for row in listings]\n",
    "house_links"
   ]
  },
  {
   "cell_type": "code",
   "execution_count": 76,
   "metadata": {},
   "outputs": [],
   "source": [
    "next_button = soup.find_all(\"button\", class_=\"pagination-button pagination-direction pagination-direction--next\")"
   ]
  },
  {
   "cell_type": "code",
   "execution_count": 79,
   "metadata": {},
   "outputs": [],
   "source": [
    "next_page = driver.find_element_by_css_selector(\"#l-container > div.l-propertySearch-paginationWrapper > div > div > div > div:nth-child(3) > button\")\n",
    "next_page.click()"
   ]
  },
  {
   "cell_type": "code",
   "execution_count": 85,
   "metadata": {},
   "outputs": [
    {
     "ename": "SyntaxError",
     "evalue": "keyword can't be an expression (<ipython-input-85-70378dd97b64>, line 4)",
     "output_type": "error",
     "traceback": [
      "\u001b[0;36m  File \u001b[0;32m\"<ipython-input-85-70378dd97b64>\"\u001b[0;36m, line \u001b[0;32m4\u001b[0m\n\u001b[0;31m    maxPageCount = int(html_soup.find('button', data-bind = 'pagination-pageInfo').text)+1\u001b[0m\n\u001b[0m                                               ^\u001b[0m\n\u001b[0;31mSyntaxError\u001b[0m\u001b[0;31m:\u001b[0m keyword can't be an expression\n"
     ]
    }
   ],
   "source": [
    "pageCounter = 0\n",
    "\n",
    "html_soup = BeautifulSoup(driver.page_source, 'html.parser')\n",
    "maxPageCount = int(html_soup.find('button',  = 'pagination-pageInfo').text)+1\n",
    "\n"
   ]
  },
  {
   "cell_type": "code",
   "execution_count": null,
   "metadata": {},
   "outputs": [],
   "source": []
  }
 ],
 "metadata": {
  "interpreter": {
   "hash": "dec69900849d04578f38cd8a3b3f9451f8fade2b73543ff492c6ab046346f614"
  },
  "kernelspec": {
   "display_name": "Python 3.7.11 ('py3')",
   "language": "python",
   "name": "python3"
  },
  "language_info": {
   "codemirror_mode": {
    "name": "ipython",
    "version": 3
   },
   "file_extension": ".py",
   "mimetype": "text/x-python",
   "name": "python",
   "nbconvert_exporter": "python",
   "pygments_lexer": "ipython3",
   "version": "3.7.11"
  },
  "orig_nbformat": 4
 },
 "nbformat": 4,
 "nbformat_minor": 2
}
