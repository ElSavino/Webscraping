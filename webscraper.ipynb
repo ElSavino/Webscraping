{
 "cells": [
  {
   "cell_type": "markdown",
   "metadata": {},
   "source": [
    "Load all required packages\n",
    "Requests package allows us to download web pages into the Python Environment"
   ]
  },
  {
   "cell_type": "code",
   "execution_count": 1,
   "metadata": {},
   "outputs": [],
   "source": [
    "import requests\n",
    "from bs4 import BeautifulSoup\n",
    "import pandas as pd"
   ]
  },
  {
   "cell_type": "markdown",
   "metadata": {},
   "source": [
    "Request a URL \n",
    "BeautifulSoup constructor parses raw HTML and produces and object to mirror the webpage.\n",
    "\n",
    "This below code extracts all the 'a' tags in the web page.\n",
    "\n",
    "'a' tags define hyperlinks"
   ]
  },
  {
   "cell_type": "code",
   "execution_count": 2,
   "metadata": {},
   "outputs": [],
   "source": [
    "\n",
    "url = \"https://forecast.weather.gov/MapClick.php?lat=29.685271900000032&lon=-95.43426899999997#.XvL4ti-z1ZJ\"\n",
    "page = requests.get(url)\n",
    "soup = BeautifulSoup(page.content, 'html.parser')"
   ]
  },
  {
   "cell_type": "markdown",
   "metadata": {},
   "source": [
    "Print all links in the webpage.\n",
    "[0] Returns the first hyperlink"
   ]
  },
  {
   "cell_type": "code",
   "execution_count": 3,
   "metadata": {},
   "outputs": [
    {
     "name": "stdout",
     "output_type": "stream",
     "text": [
      "<a class=\"pull-right\" href=\"//www.commerce.gov\" id=\"header-doc\"><img alt=\"United States Department of Commerce\" src=\"/css/images/header_doc.png\"/></a>\n"
     ]
    }
   ],
   "source": [
    "print(soup.find_all('a')[2])"
   ]
  },
  {
   "cell_type": "markdown",
   "metadata": {},
   "source": [
    "The component of the HTML containing the weather information"
   ]
  },
  {
   "cell_type": "code",
   "execution_count": 4,
   "metadata": {},
   "outputs": [],
   "source": [
    "week = soup.find(id='seven-day-forecasst-body')"
   ]
  },
  {
   "cell_type": "markdown",
   "metadata": {},
   "source": [
    "Each day found in the tombstone container\n",
    "Select day one through selecting the first item and creating an object"
   ]
  },
  {
   "cell_type": "code",
   "execution_count": 5,
   "metadata": {},
   "outputs": [
    {
     "data": {
      "text/plain": [
       "<div class=\"tombstone-container\">\n",
       "<p class=\"period-name\">Today<br/><br/></p>\n",
       "<p><img alt=\"Today: Mostly cloudy, with a high near 70. Southeast wind 5 to 10 mph increasing to 10 to 15 mph in the afternoon. Winds could gust as high as 25 mph. \" class=\"forecast-icon\" src=\"newimages/medium/bkn.png\" title=\"Today: Mostly cloudy, with a high near 70. Southeast wind 5 to 10 mph increasing to 10 to 15 mph in the afternoon. Winds could gust as high as 25 mph. \"/></p><p class=\"short-desc\">Mostly Cloudy</p><p class=\"temp temp-high\">High: 70 °F</p></div>"
      ]
     },
     "execution_count": 5,
     "metadata": {},
     "output_type": "execute_result"
    }
   ],
   "source": [
    "items = soup.find_all(class_= \"tombstone-container\")\n",
    "\n",
    "day1=items[0]\n",
    "day1\n"
   ]
  },
  {
   "cell_type": "markdown",
   "metadata": {},
   "source": [
    "information in each item is broken down into columns\n",
    "Day, weather desc, temperature"
   ]
  },
  {
   "cell_type": "code",
   "execution_count": 6,
   "metadata": {},
   "outputs": [
    {
     "name": "stdout",
     "output_type": "stream",
     "text": [
      "Today\n"
     ]
    }
   ],
   "source": [
    "print(day1.find(class_=\"period-name\").get_text())"
   ]
  },
  {
   "cell_type": "code",
   "execution_count": 7,
   "metadata": {},
   "outputs": [
    {
     "name": "stdout",
     "output_type": "stream",
     "text": [
      "Mostly Cloudy\n"
     ]
    }
   ],
   "source": [
    "print(day1.find(class_=\"short-desc\").get_text())"
   ]
  },
  {
   "cell_type": "code",
   "execution_count": 8,
   "metadata": {},
   "outputs": [
    {
     "name": "stdout",
     "output_type": "stream",
     "text": [
      "High: 70 °F\n"
     ]
    }
   ],
   "source": [
    "print(day1.find(class_=\"temp-high\").get_text())"
   ]
  },
  {
   "cell_type": "markdown",
   "metadata": {},
   "source": [
    "In order to get all the items in the list we set up a for loop function\n",
    "\n",
    "period_name is the column that we are creating\n",
    "for each day in the object items\n",
    "set name equal to the text within the period name container \n",
    "\n"
   ]
  },
  {
   "cell_type": "code",
   "execution_count": 9,
   "metadata": {},
   "outputs": [
    {
     "data": {
      "text/plain": [
       "['Today',\n",
       " 'Tonight',\n",
       " 'Wednesday',\n",
       " 'WednesdayNight',\n",
       " 'Thursday',\n",
       " 'ThursdayNight',\n",
       " 'Friday',\n",
       " 'FridayNight',\n",
       " 'Saturday']"
      ]
     },
     "execution_count": 9,
     "metadata": {},
     "output_type": "execute_result"
    }
   ],
   "source": [
    "period_name = []\n",
    "for day in items:\n",
    "    name=day.find(class_= \"period-name\").get_text()\n",
    "    period_name.append(name)\n",
    "period_name\n"
   ]
  },
  {
   "cell_type": "code",
   "execution_count": 10,
   "metadata": {},
   "outputs": [
    {
     "data": {
      "text/plain": [
       "['High: 70 °F',\n",
       " 'Low: 59 °F',\n",
       " 'High: 76 °F',\n",
       " 'Low: 67 °F',\n",
       " 'High: 77 °F',\n",
       " 'Low: 39 °F',\n",
       " 'High: 58 °F',\n",
       " 'Low: 40 °F',\n",
       " 'High: 64 °F']"
      ]
     },
     "execution_count": 10,
     "metadata": {},
     "output_type": "execute_result"
    }
   ],
   "source": [
    "temperature = []\n",
    "for day in items:\n",
    "    try:\n",
    "        name = day.find(class_=\"temp\").get_text()\n",
    "    except:\n",
    "        name = \"NA\"\n",
    "    temperature.append(name)\n",
    "temperature"
   ]
  },
  {
   "cell_type": "code",
   "execution_count": 13,
   "metadata": {},
   "outputs": [
    {
     "data": {
      "text/plain": [
       "['Mostly Cloudy',\n",
       " 'Cloudy',\n",
       " 'Mostly Cloudythen SlightChanceShowers andBreezy',\n",
       " 'Patchy Fogthen ChanceShowers andPatchy Fog',\n",
       " 'ChanceT-storms thenSunny',\n",
       " 'Partly Cloudy',\n",
       " 'Mostly Sunny',\n",
       " 'Partly Cloudy',\n",
       " 'Sunny']"
      ]
     },
     "execution_count": 13,
     "metadata": {},
     "output_type": "execute_result"
    }
   ],
   "source": [
    "short_description = []\n",
    "for day in items:\n",
    "    name = day.find(class_=\"short-desc\").get_text()\n",
    "    short_description.append(name)\n",
    "short_description"
   ]
  },
  {
   "cell_type": "markdown",
   "metadata": {},
   "source": [
    "Use pandas to merge output lists into a dataframe"
   ]
  },
  {
   "cell_type": "code",
   "execution_count": 16,
   "metadata": {},
   "outputs": [
    {
     "data": {
      "text/html": [
       "<div>\n",
       "<style scoped>\n",
       "    .dataframe tbody tr th:only-of-type {\n",
       "        vertical-align: middle;\n",
       "    }\n",
       "\n",
       "    .dataframe tbody tr th {\n",
       "        vertical-align: top;\n",
       "    }\n",
       "\n",
       "    .dataframe thead th {\n",
       "        text-align: right;\n",
       "    }\n",
       "</style>\n",
       "<table border=\"1\" class=\"dataframe\">\n",
       "  <thead>\n",
       "    <tr style=\"text-align: right;\">\n",
       "      <th></th>\n",
       "      <th>Period</th>\n",
       "      <th>Short description</th>\n",
       "      <th>Temperature</th>\n",
       "    </tr>\n",
       "  </thead>\n",
       "  <tbody>\n",
       "    <tr>\n",
       "      <th>0</th>\n",
       "      <td>Today</td>\n",
       "      <td>Mostly Cloudy</td>\n",
       "      <td>High: 70 °F</td>\n",
       "    </tr>\n",
       "    <tr>\n",
       "      <th>1</th>\n",
       "      <td>Tonight</td>\n",
       "      <td>Cloudy</td>\n",
       "      <td>Low: 59 °F</td>\n",
       "    </tr>\n",
       "    <tr>\n",
       "      <th>2</th>\n",
       "      <td>Wednesday</td>\n",
       "      <td>Mostly Cloudythen SlightChanceShowers andBreezy</td>\n",
       "      <td>High: 76 °F</td>\n",
       "    </tr>\n",
       "    <tr>\n",
       "      <th>3</th>\n",
       "      <td>WednesdayNight</td>\n",
       "      <td>Patchy Fogthen ChanceShowers andPatchy Fog</td>\n",
       "      <td>Low: 67 °F</td>\n",
       "    </tr>\n",
       "    <tr>\n",
       "      <th>4</th>\n",
       "      <td>Thursday</td>\n",
       "      <td>ChanceT-storms thenSunny</td>\n",
       "      <td>High: 77 °F</td>\n",
       "    </tr>\n",
       "    <tr>\n",
       "      <th>5</th>\n",
       "      <td>ThursdayNight</td>\n",
       "      <td>Partly Cloudy</td>\n",
       "      <td>Low: 39 °F</td>\n",
       "    </tr>\n",
       "    <tr>\n",
       "      <th>6</th>\n",
       "      <td>Friday</td>\n",
       "      <td>Mostly Sunny</td>\n",
       "      <td>High: 58 °F</td>\n",
       "    </tr>\n",
       "    <tr>\n",
       "      <th>7</th>\n",
       "      <td>FridayNight</td>\n",
       "      <td>Partly Cloudy</td>\n",
       "      <td>Low: 40 °F</td>\n",
       "    </tr>\n",
       "    <tr>\n",
       "      <th>8</th>\n",
       "      <td>Saturday</td>\n",
       "      <td>Sunny</td>\n",
       "      <td>High: 64 °F</td>\n",
       "    </tr>\n",
       "  </tbody>\n",
       "</table>\n",
       "</div>"
      ],
      "text/plain": [
       "           Period                                Short description  \\\n",
       "0           Today                                    Mostly Cloudy   \n",
       "1         Tonight                                           Cloudy   \n",
       "2       Wednesday  Mostly Cloudythen SlightChanceShowers andBreezy   \n",
       "3  WednesdayNight       Patchy Fogthen ChanceShowers andPatchy Fog   \n",
       "4        Thursday                         ChanceT-storms thenSunny   \n",
       "5   ThursdayNight                                    Partly Cloudy   \n",
       "6          Friday                                     Mostly Sunny   \n",
       "7     FridayNight                                    Partly Cloudy   \n",
       "8        Saturday                                            Sunny   \n",
       "\n",
       "   Temperature  \n",
       "0  High: 70 °F  \n",
       "1   Low: 59 °F  \n",
       "2  High: 76 °F  \n",
       "3   Low: 67 °F  \n",
       "4  High: 77 °F  \n",
       "5   Low: 39 °F  \n",
       "6  High: 58 °F  \n",
       "7   Low: 40 °F  \n",
       "8  High: 64 °F  "
      ]
     },
     "execution_count": 16,
     "metadata": {},
     "output_type": "execute_result"
    }
   ],
   "source": [
    "weather_tabele = pd.DataFrame({'Period' :period_name,\n",
    "'Short description' :short_description,\n",
    "'Temperature' :temperature})\n",
    "weather_tabele"
   ]
  },
  {
   "cell_type": "markdown",
   "metadata": {},
   "source": []
  }
 ],
 "metadata": {
  "interpreter": {
   "hash": "dec69900849d04578f38cd8a3b3f9451f8fade2b73543ff492c6ab046346f614"
  },
  "kernelspec": {
   "display_name": "Python 3.7.11 ('py3')",
   "language": "python",
   "name": "python3"
  },
  "language_info": {
   "codemirror_mode": {
    "name": "ipython",
    "version": 3
   },
   "file_extension": ".py",
   "mimetype": "text/x-python",
   "name": "python",
   "nbconvert_exporter": "python",
   "pygments_lexer": "ipython3",
   "version": "3.7.11"
  },
  "orig_nbformat": 4
 },
 "nbformat": 4,
 "nbformat_minor": 2
}
